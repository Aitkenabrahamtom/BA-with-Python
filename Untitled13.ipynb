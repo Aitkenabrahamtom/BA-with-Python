{
  "nbformat": 4,
  "nbformat_minor": 0,
  "metadata": {
    "colab": {
      "provenance": [],
      "authorship_tag": "ABX9TyNebLvZo/vtE2qrQ1t4eNfN",
      "include_colab_link": true
    },
    "kernelspec": {
      "name": "python3",
      "display_name": "Python 3"
    },
    "language_info": {
      "name": "python"
    }
  },
  "cells": [
    {
      "cell_type": "markdown",
      "metadata": {
        "id": "view-in-github",
        "colab_type": "text"
      },
      "source": [
        "<a href=\"https://colab.research.google.com/github/Aitkenabrahamtom/BA-with-Python/blob/main/Untitled13.ipynb\" target=\"_parent\"><img src=\"https://colab.research.google.com/assets/colab-badge.svg\" alt=\"Open In Colab\"/></a>"
      ]
    },
    {
      "cell_type": "code",
      "execution_count": 1,
      "metadata": {
        "id": "OR7ZMyJWcsB9"
      },
      "outputs": [],
      "source": [
        "x=[1,2,3,4,5,6,7,8,9]\n"
      ]
    },
    {
      "cell_type": "code",
      "source": [
        "def ABC(x):\n",
        "  print(sum(x))"
      ],
      "metadata": {
        "id": "ycR9DZ_kc4mY"
      },
      "execution_count": 2,
      "outputs": []
    },
    {
      "cell_type": "code",
      "source": [
        "ABC(x)"
      ],
      "metadata": {
        "colab": {
          "base_uri": "https://localhost:8080/"
        },
        "id": "DQOYE-nbdAMj",
        "outputId": "f60542e8-999b-423a-c4da-8ddd25a6c1c5"
      },
      "execution_count": 3,
      "outputs": [
        {
          "output_type": "stream",
          "name": "stdout",
          "text": [
            "45\n"
          ]
        }
      ]
    },
    {
      "cell_type": "code",
      "source": [
        "def odds():\n",
        "  for k in x:\n",
        "    if k % 2 ==1:\n",
        "      print(k)"
      ],
      "metadata": {
        "id": "GnJxAKd6dCz1"
      },
      "execution_count": 4,
      "outputs": []
    },
    {
      "cell_type": "code",
      "source": [
        "odds()"
      ],
      "metadata": {
        "colab": {
          "base_uri": "https://localhost:8080/"
        },
        "id": "dm74Cr3wgzyk",
        "outputId": "e4d842f8-1f03-413e-a13d-bf21108a429c"
      },
      "execution_count": 5,
      "outputs": [
        {
          "output_type": "stream",
          "name": "stdout",
          "text": [
            "1\n",
            "3\n",
            "5\n",
            "7\n",
            "9\n"
          ]
        }
      ]
    },
    {
      "cell_type": "code",
      "source": [
        "def even(x):\n",
        "  for k in x:\n",
        "    if k % 2==0:\n",
        "      print(k)\n"
      ],
      "metadata": {
        "id": "pTo8fjtWg18Z"
      },
      "execution_count": 9,
      "outputs": []
    },
    {
      "cell_type": "code",
      "source": [
        "even(x)"
      ],
      "metadata": {
        "colab": {
          "base_uri": "https://localhost:8080/"
        },
        "id": "R81K7jO4hUBr",
        "outputId": "df7509e7-3989-496c-ce17-390729c9568f"
      },
      "execution_count": 10,
      "outputs": [
        {
          "output_type": "stream",
          "name": "stdout",
          "text": [
            "2\n",
            "4\n",
            "6\n",
            "8\n"
          ]
        }
      ]
    },
    {
      "cell_type": "code",
      "source": [
        "string = input(\"Enter any string: \")\n",
        "\n",
        "newstr = string\n",
        "\n",
        "print(\"\\nRemoving vowels from the given string\");\n",
        "\n",
        "vowels = ('a', 'e', 'i', 'o', 'u');\n",
        "\n",
        "for x in string.lower():\n",
        "  if x in vowels:\n",
        "    newstr = newstr.replace(x,\"\");\n",
        "\n",
        "print(\"New string after successfully removed all the vowels:\");\n",
        "\n",
        "print(newstr);"
      ],
      "metadata": {
        "colab": {
          "base_uri": "https://localhost:8080/"
        },
        "id": "Wl5EXeEIhV8B",
        "outputId": "82d0c0dd-adbc-44d8-c4d7-cb5daa1d51dc"
      },
      "execution_count": 12,
      "outputs": [
        {
          "output_type": "stream",
          "name": "stdout",
          "text": [
            "Enter any string: Python is a high-level, general-purpose programming language. Its design philosophy emphasizes code readability with the use of significant indentation\n",
            "\n",
            "Removing vowels from the given string\n",
            "New string after successfully removed all the vowels:\n",
            "Pythn s  hgh-lvl, gnrl-prps prgrmmng lngg. Its dsgn phlsphy mphszs cd rdblty wth th s f sgnfcnt ndnttn\n"
          ]
        }
      ]
    },
    {
      "cell_type": "code",
      "source": [],
      "metadata": {
        "id": "kDa6Cox2oYNc"
      },
      "execution_count": null,
      "outputs": []
    }
  ]
}